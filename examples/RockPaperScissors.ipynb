{
 "cells": [
  {
   "cell_type": "markdown",
   "id": "b0b5312c-4451-4286-981c-8081fc416395",
   "metadata": {},
   "source": [
    "#### It prints a welcome message to the user"
   ]
  },
  {
   "cell_type": "code",
   "execution_count": 1,
   "id": "f1e8e112-102a-4499-9b5d-5c8cab4d6cac",
   "metadata": {},
   "outputs": [
    {
     "name": "stdout",
     "output_type": "stream",
     "text": [
      "Welcome to my Rock, Paper, Scissors game!\n"
     ]
    }
   ],
   "source": [
    "# > Print Welcome to my Rock, Paper, Scissors game!\n",
    "print(\"Welcome to my Rock, Paper, Scissors game!\")"
   ]
  },
  {
   "cell_type": "markdown",
   "id": "af841bf5-4fe6-4705-860a-4e6d8e48036d",
   "metadata": {},
   "source": [
    "#### It asks the user to choose one of the three options: Rock, Paper, Scissors"
   ]
  },
  {
   "cell_type": "code",
   "execution_count": 2,
   "id": "fd779946-7c36-4f74-8b2d-046b78091079",
   "metadata": {},
   "outputs": [
    {
     "name": "stdin",
     "output_type": "stream",
     "text": [
      "Choose one of the options: Rock, Paper, Scissors: Paper\n"
     ]
    }
   ],
   "source": [
    "# > Ask the user to choose one of the options: Rock, Paper, Scissors\n",
    "# < If you just ask for input and do not store it, it will be lost for future interactions and usage. You could store it in a variable to be able to access it during the execution of your program. Do you want to do it?\n",
    "# > Yes\n",
    "# < What name do you want to use for the variable? (Suggestion: reply)\n",
    "# > Reply\n",
    "reply = input(\"Choose one of the options: Rock, Paper, Scissors:\")"
   ]
  },
  {
   "cell_type": "markdown",
   "id": "a044bde3-d15f-4283-b103-249a44b35cd8",
   "metadata": {},
   "source": [
    "#### It prints the selected hand to the user"
   ]
  },
  {
   "cell_type": "code",
   "execution_count": 3,
   "id": "19312d15-589f-45ad-ab1a-e43b3f2f3b2e",
   "metadata": {},
   "outputs": [
    {
     "name": "stdout",
     "output_type": "stream",
     "text": [
      "The selected hand is Paper\n"
     ]
    }
   ],
   "source": [
    "# > Display The selected hand is reply\n",
    "# < Your message is ambiguous. I am not sure if you want to include the value of the variable reply in your message or if you just want to print the text 'The selected hand is reply'. Quotation marks can help to distinguish the text that you want to print from the elements of the code. Additionally, you can use interpolation to add your variables in strings. Thus, if your intention is to include the value of reply, you can use the string f'The selected hand is {reply}'. Can you type again the message you want to show in an unambiguous way?\n",
    "# > Display 'The selected hand is {reply}'\n",
    "print(f'The selected hand is {reply}')"
   ]
  },
  {
   "cell_type": "markdown",
   "id": "8aa9afba-2e2e-48b5-b21b-383607f6108b",
   "metadata": {},
   "source": [
    "#### It randomly generates one of the three options: Rock, Paper, Scissors"
   ]
  },
  {
   "cell_type": "code",
   "execution_count": 4,
   "id": "ad0de666-e9bc-45d5-bb7a-68e526a08303",
   "metadata": {},
   "outputs": [],
   "source": [
    "# > Choose a random option from Rock, Paper, Scissors and assign it to the variable opponent\n",
    "import random\n",
    "opponent = random.choice(['Rock', 'Paper', 'Scissors'])"
   ]
  },
  {
   "cell_type": "markdown",
   "id": "b8acd09e-55d6-4b7a-a7ef-c8b3d9b79a0c",
   "metadata": {},
   "source": [
    "#### It prints the randomly generated hand to the user"
   ]
  },
  {
   "cell_type": "code",
   "execution_count": 5,
   "id": "24769b32-0db1-4526-af19-377aef435196",
   "metadata": {},
   "outputs": [
    {
     "name": "stdout",
     "output_type": "stream",
     "text": [
      "Your opponent chose Rock\n"
     ]
    }
   ],
   "source": [
    "# > Show 'Your opponent chose {opponent}'\n",
    "print(f\"Your opponent chose {opponent}\")"
   ]
  },
  {
   "cell_type": "code",
   "execution_count": null,
   "id": "35b993b5-9f89-4bfa-9d04-e2ac22700672",
   "metadata": {},
   "outputs": [],
   "source": []
  },
  {
   "cell_type": "code",
   "execution_count": 6,
   "id": "349930a0-d226-41da-a0e6-04a8daf053a8",
   "metadata": {},
   "outputs": [
    {
     "name": "stdout",
     "output_type": "stream",
     "text": [
      "Player won!\n"
     ]
    }
   ],
   "source": [
    "if reply == \"Paper\" and opponent == \"Rock\":\n",
    "    print(\"Player won!\")"
   ]
  },
  {
   "cell_type": "code",
   "execution_count": 7,
   "id": "acd4ce9b-2522-45ee-a054-038c42e3a7db",
   "metadata": {},
   "outputs": [
    {
     "name": "stdout",
     "output_type": "stream",
     "text": [
      "Player won\n"
     ]
    }
   ],
   "source": [
    "if reply == \"Paper\":\n",
    "    if opponent == \"Rock\":\n",
    "        print(\"Player won\")\n",
    "    if opponent == \"Paper\":\n",
    "        print(\"Tie\")\n",
    "    if opponent == \"Scissors\":\n",
    "        print(\"Player lost\")"
   ]
  },
  {
   "cell_type": "code",
   "execution_count": 8,
   "id": "ca5c88b4-dd73-487c-a3eb-d7cafb789c4a",
   "metadata": {},
   "outputs": [
    {
     "name": "stdout",
     "output_type": "stream",
     "text": [
      "Player won\n"
     ]
    }
   ],
   "source": [
    "if reply == \"Paper\":\n",
    "    if opponent == \"Rock\":\n",
    "        print(\"Player won\")\n",
    "    if opponent == \"Paper\":\n",
    "        print(\"Tie\")\n",
    "    if opponent == \"Scissors\":\n",
    "        print(\"Player lost\")\n",
    "\n",
    "if reply == \"Rock\":\n",
    "    if opponent == \"Rock\":\n",
    "        print(\"Tie\")\n",
    "    if opponent == \"Paper\":\n",
    "        print(\"Player lost\")\n",
    "    if opponent == \"Scissors\":\n",
    "        print(\"Player won\")\n",
    "\n",
    "if reply == \"Scissors\":\n",
    "    if opponent == \"Rock\":\n",
    "        print(\"Player lost\")\n",
    "    if opponent == \"Paper\":\n",
    "        print(\"Player won\")\n",
    "    if opponent == \"Scissors\":\n",
    "        print(\"Tie\")"
   ]
  },
  {
   "cell_type": "code",
   "execution_count": 9,
   "id": "b391b743-7c8e-41ad-9d17-01aac1976435",
   "metadata": {},
   "outputs": [],
   "source": [
    "import anachat"
   ]
  },
  {
   "cell_type": "code",
   "execution_count": 10,
   "id": "64a810ae-07ae-42f1-923f-e6449c1e1df3",
   "metadata": {},
   "outputs": [],
   "source": [
    "anachat.comm.COMM.reply(\"Print Welcome to my Rock, Paper, Scissors game!\", type_=\"usercode\")"
   ]
  },
  {
   "cell_type": "code",
   "execution_count": 11,
   "id": "34dc2488-ae54-46d9-a82c-46e94da363ce",
   "metadata": {},
   "outputs": [],
   "source": [
    "anachat.comm.COMM.reply('print(\"Welcome to my Rock, Paper, Scissors game!\")', type_=\"botcode\")"
   ]
  },
  {
   "cell_type": "code",
   "execution_count": 12,
   "id": "91003bbb-6f30-441e-aa3c-04ace467a6ff",
   "metadata": {},
   "outputs": [],
   "source": [
    "#anachat.comm.COMM.reply(\"I created cell [1]\", type_=\"bot\")"
   ]
  },
  {
   "cell_type": "code",
   "execution_count": 13,
   "id": "547dd0a6-8a61-4438-b7b5-6bd72695e324",
   "metadata": {},
   "outputs": [],
   "source": [
    "anachat.comm.COMM.reply(\"Ask the user to choose one of the options: Rock, Paper, Scissors\", type_=\"usercode\")"
   ]
  },
  {
   "cell_type": "code",
   "execution_count": 14,
   "id": "e5fb726a-9bdf-4a9b-8de9-d2a329218781",
   "metadata": {},
   "outputs": [],
   "source": [
    "anachat.comm.COMM.reply(\"If you just ask for input and do not store it, it will be lost for future interactions and usage. You could store it in a <b>variable</b> to be able to access it during the execution of your program. Do you want to do it?\", type_=\"bot\")"
   ]
  },
  {
   "cell_type": "code",
   "execution_count": 15,
   "id": "aeacde7c-4783-456d-ac51-19e63e6b1135",
   "metadata": {},
   "outputs": [],
   "source": [
    "anachat.comm.COMM.reply(\"Yes\", type_=\"usercode\")"
   ]
  },
  {
   "cell_type": "code",
   "execution_count": 16,
   "id": "75075c9f-9667-4d8e-9085-796231fe726c",
   "metadata": {},
   "outputs": [],
   "source": [
    "anachat.comm.COMM.reply(\"What name do you want to use for the variable? (Suggestion: reply)\", type_=\"bot\")"
   ]
  },
  {
   "cell_type": "code",
   "execution_count": 17,
   "id": "0cc0e2e9-b8ae-4dd2-b8b2-d61bd0b67ba2",
   "metadata": {},
   "outputs": [],
   "source": [
    "anachat.comm.COMM.reply(\"reply\", type_=\"usercode\")"
   ]
  },
  {
   "cell_type": "code",
   "execution_count": 18,
   "id": "eb039da7-66ce-4d0a-80c0-a930c4352133",
   "metadata": {},
   "outputs": [],
   "source": [
    "anachat.comm.COMM.reply('reply = input(\"Choose one of the options: Rock, Paper, Scissors:\")', type_=\"botcode\")"
   ]
  },
  {
   "cell_type": "code",
   "execution_count": 19,
   "id": "cab976ae-1c58-46ec-bcef-19cd81bedfe0",
   "metadata": {},
   "outputs": [],
   "source": [
    "anachat.comm.COMM.reply(\"Display The selected hand is reply\", type_=\"usercode\")"
   ]
  },
  {
   "cell_type": "code",
   "execution_count": 20,
   "id": "f0250974-dafb-4cb0-8f02-0c92661b8ec8",
   "metadata": {},
   "outputs": [],
   "source": [
    "anachat.comm.COMM.reply(\"Your message is ambiguous. I am not sure if you want to include the value of the variable <b>reply</b> in your message or if you just want to print the text <span style=\\\"color: rgb(186, 33, 33);\\\">'The selected hand is reply'</span>. Quotation marks can help to distinguish the text that you want to print from the elements of the code. Additionally, you can use interpolation to add your variables in strings. Thus, if your intention is to include the value of <b>reply</b>, you can use the string <span style=\\\"color: rgb(186, 33, 33);\\\">f'The selected hand is {reply}'</span>. Can you type again the message you want to show in an unambiguous way?\", type_=\"bot\")"
   ]
  },
  {
   "cell_type": "code",
   "execution_count": 21,
   "id": "09949ea4-9686-4243-9d50-10b7ea62ad93",
   "metadata": {},
   "outputs": [],
   "source": [
    "anachat.comm.COMM.reply(\"Display 'The selected hand is {reply}'\", type_=\"usercode\")"
   ]
  },
  {
   "cell_type": "code",
   "execution_count": 22,
   "id": "08e2cae8-da79-40ec-a6d9-d0005b8fd01d",
   "metadata": {},
   "outputs": [],
   "source": [
    "anachat.comm.COMM.reply(\"print(f'The selected hand is {reply}')\", type_=\"botcode\")"
   ]
  },
  {
   "cell_type": "code",
   "execution_count": 23,
   "id": "347ca488-238b-43b5-8252-8c2bd9214121",
   "metadata": {},
   "outputs": [],
   "source": [
    "anachat.comm.COMM.reply(\"Choose a random option from Rock, Paper, Scissors and assign it to the variable opponent\", type_=\"usercode\")"
   ]
  },
  {
   "cell_type": "code",
   "execution_count": 24,
   "id": "bfbc29d0-9b49-4633-85cf-74eafeca7205",
   "metadata": {},
   "outputs": [],
   "source": [
    "anachat.comm.COMM.reply(\"import random\\nopponent = random.choice(['Rock', 'Paper', 'Scissors'])\", type_=\"botcode\")"
   ]
  },
  {
   "cell_type": "code",
   "execution_count": 25,
   "id": "5065bd3c-b451-467e-8880-88315702386f",
   "metadata": {},
   "outputs": [],
   "source": [
    "anachat.comm.COMM.reply(\"Show 'Your opponent chose {opponent}'\", type_=\"usercode\")"
   ]
  },
  {
   "cell_type": "code",
   "execution_count": 26,
   "id": "4ee35eda-94f2-4443-b32b-a8e20e2d247e",
   "metadata": {},
   "outputs": [],
   "source": [
    "anachat.comm.COMM.reply('print(f\"Your opponent chose {opponent}\")', type_=\"botcode\")"
   ]
  },
  {
   "cell_type": "code",
   "execution_count": 27,
   "id": "d9ff6997-0a97-4f31-914e-43caf1d0abb4",
   "metadata": {},
   "outputs": [],
   "source": [
    "anachat.comm.COMM.reply(\"Indicate that the player won the game if the reply was paper and the opponent choice was rock\", type_=\"usercode\")"
   ]
  },
  {
   "cell_type": "code",
   "execution_count": 28,
   "id": "2292cf24-10b8-4804-80d1-e545ed863198",
   "metadata": {},
   "outputs": [],
   "source": [
    "anachat.comm.COMM.reply('if reply == \"Paper\" and opponent == \"Rock\":\\n    print(\"Player won!\")', type_=\"botcode\")"
   ]
  },
  {
   "cell_type": "code",
   "execution_count": 29,
   "id": "54d327c6-0e5a-4fd6-a9e6-bbe1fe572848",
   "metadata": {},
   "outputs": [],
   "source": [
    "anachat.comm.COMM.reply(\"if reply == \\\"Paper\\\":\\n    print Player won if opponent choice was Rock\\n    print Tie if opponent choice was Paper\\n    print Player lost if opponent choice was Scissors\", type_=\"usercode\")"
   ]
  },
  {
   "cell_type": "code",
   "execution_count": 30,
   "id": "78217d6d-6833-4219-89ec-1d3d8539b5f6",
   "metadata": {},
   "outputs": [],
   "source": [
    "anachat.comm.COMM.reply('if reply == \"Paper\":\\n    if opponent == \"Rock\":\\n        print(\"Player won\")\\n    if opponent == \"Paper\":\\n        print(\"Tie\")\\n    if opponent == \"Scissors\":\\n        print(\"Player lost\")', type_=\"botcode\")"
   ]
  },
  {
   "cell_type": "code",
   "execution_count": 41,
   "id": "ed523b3a-5a15-45a9-a7c4-16f73d747f25",
   "metadata": {},
   "outputs": [],
   "source": [
    "anachat.comm.COMM.reply('if reply == \"Paper\":\\n    if opponent == \"Rock\":\\n        print(\"Player won\")\\n    if opponent == \"Paper\":\\n        print(\"Tie\")\\n    if opponent == \"Scissors\":\\n        print(\"Player lost\")\\n\\nif reply == \"Rock\":\\n    if opponent == \"Rock\":\\n        print(\"Tie\")\\n    if opponent == \"Paper\":\\n        print(\"Player lost\")\\n    if opponent == \"Scissors\":\\n        print(\"Player won\")\\n\\nif reply == \"Scissors\":\\n    if opponent == \"Rock\":\\n        print(\"Player lost\")\\n    if opponent == \"Paper\":\\n        print(\"Player won\")\\n    if opponent == \"Scissors\":\\n        print(\"Tie\")', type_=\"usercode\")"
   ]
  },
  {
   "cell_type": "code",
   "execution_count": 42,
   "id": "b362ac3d-73ba-4387-b6dd-c84d7c7a6e30",
   "metadata": {},
   "outputs": [],
   "source": [
    "anachat.comm.COMM.reply(\"Your code is a valid Python code. Executing it!\", type_=\"bot\")"
   ]
  },
  {
   "cell_type": "code",
   "execution_count": 52,
   "id": "8f875bdc-5dcd-4a1c-825e-20ed4a6297c5",
   "metadata": {},
   "outputs": [],
   "source": [
    "anachat.comm.COMM.core.refresh(anachat.comm.COMM)"
   ]
  },
  {
   "cell_type": "code",
   "execution_count": 51,
   "id": "c99be995-abc7-4ce2-ad6f-1d8755bdf635",
   "metadata": {},
   "outputs": [
    {
     "data": {
      "text/plain": [
       "{'text': 'Indicate that the player won the game if the reply was paper and the opponent choice was rock',\n",
       " 'type': 'usercode',\n",
       " 'timestamp': 1657327504209}"
      ]
     },
     "execution_count": 51,
     "metadata": {},
     "output_type": "execute_result"
    }
   ],
   "source": [
    "anachat.comm.COMM.history.pop()"
   ]
  },
  {
   "cell_type": "code",
   "execution_count": null,
   "id": "c970031e-2a6d-413f-a901-7a04de53bfa4",
   "metadata": {},
   "outputs": [],
   "source": []
  }
 ],
 "metadata": {
  "kernelspec": {
   "display_name": "Python 3 (ipykernel)",
   "language": "python",
   "name": "python3"
  },
  "language_info": {
   "codemirror_mode": {
    "name": "ipython",
    "version": 3
   },
   "file_extension": ".py",
   "mimetype": "text/x-python",
   "name": "python",
   "nbconvert_exporter": "python",
   "pygments_lexer": "ipython3",
   "version": "3.10.4"
  }
 },
 "nbformat": 4,
 "nbformat_minor": 5
}
