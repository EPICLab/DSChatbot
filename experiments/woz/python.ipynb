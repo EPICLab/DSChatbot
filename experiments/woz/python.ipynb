{
 "cells": [
  {
   "cell_type": "markdown",
   "id": "7fe3c153-9105-4635-8718-d6803c85ed0c",
   "metadata": {},
   "source": [
    "# Python Notebook\n",
    "\n",
    "Use this notebook to work using Python, without our tool support"
   ]
  },
  {
   "cell_type": "code",
   "execution_count": null,
   "id": "fd1575d5-a964-4f03-a064-231d6a6d2cfc",
   "metadata": {},
   "outputs": [],
   "source": []
  }
 ],
 "metadata": {
  "kernelspec": {
   "display_name": "Python 3 (ipykernel)",
   "language": "python",
   "name": "python3"
  },
  "language_info": {
   "codemirror_mode": {
    "name": "ipython",
    "version": 3
   },
   "file_extension": ".py",
   "mimetype": "text/x-python",
   "name": "python",
   "nbconvert_exporter": "python",
   "pygments_lexer": "ipython3",
   "version": "3.10.4"
  }
 },
 "nbformat": 4,
 "nbformat_minor": 5
}
