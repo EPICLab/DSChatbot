{
 "cells": [
  {
   "attachments": {},
   "cell_type": "markdown",
   "id": "c25fd9d7-2ed6-4eab-94fd-356e611f057a",
   "metadata": {},
   "source": [
    "# Chatbot Notebook\n",
    "\n",
    "Use this notebook to work using our tool - the chatbot on the right pane. If you accidently close it, click on ![](https://raw.githubusercontent.com/EPICLab/DSChatbot/main/style/img/newtonchat.svg) (right toolbar)"
   ]
  },
  {
   "cell_type": "markdown",
   "id": "e98c489b",
   "metadata": {},
   "source": []
  },
  {
   "cell_type": "code",
   "execution_count": null,
   "id": "aa7ff102-5963-4f67-acee-0166dc5e56bb",
   "metadata": {},
   "outputs": [],
   "source": []
  }
 ],
 "metadata": {
  "kernelspec": {
   "display_name": "Python 3 (ipykernel)",
   "language": "python",
   "name": "python3"
  },
  "language_info": {
   "codemirror_mode": {
    "name": "ipython",
    "version": 3
   },
   "file_extension": ".py",
   "mimetype": "text/x-python",
   "name": "python",
   "nbconvert_exporter": "python",
   "pygments_lexer": "ipython3",
   "version": "3.10.4"
  }
 },
 "nbformat": 4,
 "nbformat_minor": 5
}
